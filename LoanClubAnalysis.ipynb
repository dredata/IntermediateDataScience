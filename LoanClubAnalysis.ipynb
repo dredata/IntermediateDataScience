{
 "cells": [
  {
   "cell_type": "code",
   "execution_count": 109,
   "metadata": {},
   "outputs": [],
   "source": [
    "# LendingClub Data content check\n",
    "# Two sources of data and a data dictionary\n",
    "# Data in CSV and SQL files are provided - Kaggle\n",
    "# Looks like FICO score data is missing and some column names are different\n",
    "import sqlite3\n",
    "import csv\n",
    "import pandas as pd\n",
    "import collections\n",
    "import matplotlib.pyplot as plt\n",
    "import numpy as np\n",
    "\n",
    "dataURL = 'https://www.kaggle.com/wendykan/lending-club-loan-data/downloads/lending-club-loan-data.zip'\n",
    "homeDir = \"/fdata/LendingClub/lending-club-loan-data/\"\n",
    "fnSQL = \"database.sqlite\"\n",
    "fnCSV = \"loan.csv\"\n"
   ]
  },
  {
   "cell_type": "code",
   "execution_count": 2,
   "metadata": {},
   "outputs": [],
   "source": [
    "# get column of data from CSV file\n",
    "def getCSVColumn(header):\n",
    "    try:\n",
    "        indx = cnCSV.index(header)\n",
    "        with open(homeDir+fnCSV) as csvfile:\n",
    "            reader = csv.reader(csvfile)\n",
    "            tcol = list(zip(*reader))[indx]\n",
    "            col = list(tcol)\n",
    "            col.pop(0)\n",
    "            return col\n",
    "    except ValueError:\n",
    "        print(\"Column not found:\", header)\n",
    "        col = []\n",
    "        return col\n",
    "\n",
    "# get column of data from SQLite file\n",
    "def getSQLiteColumn(header):\n",
    "    col = []\n",
    "    conn = sqlite3.connect(homeDir+fnSQL)\n",
    "    cursor = conn.execute('SELECT ' + header + ' FROM loan')\n",
    "    for row in cursor.fetchall():\n",
    "        col.append(row[0])\n",
    "    return col\n"
   ]
  },
  {
   "cell_type": "code",
   "execution_count": 3,
   "metadata": {
    "collapsed": true
   },
   "outputs": [
    {
     "name": "stdout",
     "output_type": "stream",
     "text": [
      "75\n",
      "['index', 'id', 'member_id', 'loan_amnt', 'funded_amnt', 'funded_amnt_inv', 'term', 'int_rate', 'installment', 'grade', 'sub_grade', 'emp_title', 'emp_length', 'home_ownership', 'annual_inc', 'verification_status', 'issue_d', 'loan_status', 'pymnt_plan', 'url', 'desc', 'purpose', 'title', 'zip_code', 'addr_state', 'dti', 'delinq_2yrs', 'earliest_cr_line', 'inq_last_6mths', 'mths_since_last_delinq', 'mths_since_last_record', 'open_acc', 'pub_rec', 'revol_bal', 'revol_util', 'total_acc', 'initial_list_status', 'out_prncp', 'out_prncp_inv', 'total_pymnt', 'total_pymnt_inv', 'total_rec_prncp', 'total_rec_int', 'total_rec_late_fee', 'recoveries', 'collection_recovery_fee', 'last_pymnt_d', 'last_pymnt_amnt', 'next_pymnt_d', 'last_credit_pull_d', 'collections_12_mths_ex_med', 'mths_since_last_major_derog', 'policy_code', 'application_type', 'annual_inc_joint', 'dti_joint', 'verification_status_joint', 'acc_now_delinq', 'tot_coll_amt', 'tot_cur_bal', 'open_acc_6m', 'open_il_6m', 'open_il_12m', 'open_il_24m', 'mths_since_rcnt_il', 'total_bal_il', 'il_util', 'open_rv_12m', 'open_rv_24m', 'max_bal_bc', 'all_util', 'total_rev_hi_lim', 'inq_fi', 'total_cu_tl', 'inq_last_12m']\n"
     ]
    }
   ],
   "source": [
    "# read in column names from sqlite data base\n",
    "conn = sqlite3.connect(homeDir+fnSQL)\n",
    "\n",
    "cursor = conn.execute('select * from loan')\n",
    "\n",
    "cnSQL = [description[0] for description in cursor.description]\n",
    "print(len(cnSQL))\n",
    "print(cnSQL)\n",
    "conn.close()\n",
    "# 75 Data Columns"
   ]
  },
  {
   "cell_type": "code",
   "execution_count": 4,
   "metadata": {
    "collapsed": true
   },
   "outputs": [
    {
     "name": "stdout",
     "output_type": "stream",
     "text": [
      "79\n",
      "['LoanStatNew', 'addr_state', 'acc_now_delinq', 'all_util', 'annual_inc', 'annual_inc_joint', 'application_type', 'collection_recovery_fee', 'collections_12_mths_ex_med', 'delinq_2yrs', 'desc', 'dti', 'dti_joint', 'earliest_cr_line', 'emp_length', 'emp_title', 'fico_range_high', 'fico_range_low', 'funded_amnt', 'funded_amnt_inv', 'grade', 'home_ownership', 'id', 'il_util', 'initial_list_status', 'inq_fi', 'inq_last_12m', 'inq_last_6mths', 'installment', 'int_rate', 'is_inc_v', 'issue_d', 'last_credit_pull_d', 'last_fico_range_high', 'last_fico_range_low', 'last_pymnt_amnt', 'last_pymnt_d', 'loan_amnt', 'loan_status', 'max_bal_bc', 'member_id', 'mths_since_last_delinq', 'mths_since_last_major_derog', 'mths_since_last_record', 'mths_since_rcnt_il', 'next_pymnt_d', 'open_acc', 'open_acc_6m', 'open_il_12m', 'open_il_24m', 'open_il_6m', 'open_rv_12m', 'open_rv_24m', 'out_prncp', 'out_prncp_inv', 'policy_code', 'pub_rec', 'purpose', 'pymnt_plan', 'recoveries', 'revol_bal', 'revol_util', 'sub_grade', 'term', 'title', 'tot_coll_amt', 'tot_cur_bal', 'total_acc', 'total_bal_il', 'total_cu_tl', 'total_pymnt', 'total_pymnt_inv', 'total_rec_int', 'total_rec_late_fee', 'total_rec_prncp', 'total_rev_hi_lim', 'url', 'verified_status_joint', 'zip_code']\n",
      "\n"
     ]
    }
   ],
   "source": [
    "# read in data names from LCDataDictionary.csv -- from LCDataDictionary.xlsx\n",
    "cnDict = []\n",
    "with open(homeDir+\"LCDataDictionary.csv\") as csvfile:\n",
    "    reader = csv.reader(csvfile, delimiter='\\t', quotechar='|')\n",
    "    for row in reader:\n",
    "        cnDict.append(row[0])\n",
    "cnDict[:] = [item for item in cnDict if item != '']\n",
    "print(len(cnDict))\n",
    "print(cnDict)\n",
    "print()\n",
    "# 79 Data Columns"
   ]
  },
  {
   "cell_type": "code",
   "execution_count": 6,
   "metadata": {
    "collapsed": true
   },
   "outputs": [
    {
     "name": "stdout",
     "output_type": "stream",
     "text": [
      "74\n",
      "['id', 'member_id', 'loan_amnt', 'funded_amnt', 'funded_amnt_inv', 'term', 'int_rate', 'installment', 'grade', 'sub_grade', 'emp_title', 'emp_length', 'home_ownership', 'annual_inc', 'verification_status', 'issue_d', 'loan_status', 'pymnt_plan', 'url', 'desc', 'purpose', 'title', 'zip_code', 'addr_state', 'dti', 'delinq_2yrs', 'earliest_cr_line', 'inq_last_6mths', 'mths_since_last_delinq', 'mths_since_last_record', 'open_acc', 'pub_rec', 'revol_bal', 'revol_util', 'total_acc', 'initial_list_status', 'out_prncp', 'out_prncp_inv', 'total_pymnt', 'total_pymnt_inv', 'total_rec_prncp', 'total_rec_int', 'total_rec_late_fee', 'recoveries', 'collection_recovery_fee', 'last_pymnt_d', 'last_pymnt_amnt', 'next_pymnt_d', 'last_credit_pull_d', 'collections_12_mths_ex_med', 'mths_since_last_major_derog', 'policy_code', 'application_type', 'annual_inc_joint', 'dti_joint', 'verification_status_joint', 'acc_now_delinq', 'tot_coll_amt', 'tot_cur_bal', 'open_acc_6m', 'open_il_6m', 'open_il_12m', 'open_il_24m', 'mths_since_rcnt_il', 'total_bal_il', 'il_util', 'open_rv_12m', 'open_rv_24m', 'max_bal_bc', 'all_util', 'total_rev_hi_lim', 'inq_fi', 'total_cu_tl', 'inq_last_12m']\n"
     ]
    }
   ],
   "source": [
    "# read in column names from loan.csv\n",
    "with open(homeDir+fnCSV) as csvfile:\n",
    "    reader = csv.reader(csvfile, delimiter='\\t')\n",
    "    cnCSV = next(reader)[0].split(',')\n",
    "print(len(cnCSV))\n",
    "print(cnCSV)\n",
    "# 74 Data Columns"
   ]
  },
  {
   "cell_type": "code",
   "execution_count": 7,
   "metadata": {
    "collapsed": true
   },
   "outputs": [
    {
     "name": "stdout",
     "output_type": "stream",
     "text": [
      "{'last_fico_range_low', 'fico_range_high', 'verified_status_joint', 'verification_status_joint', 'index', 'last_fico_range_high', 'LoanStatNew', 'fico_range_low', 'verification_status', 'is_inc_v'}\n",
      "\n",
      "{'last_fico_range_low', 'fico_range_high', 'verified_status_joint', 'verification_status_joint', 'last_fico_range_high', 'LoanStatNew', 'fico_range_low', 'verification_status', 'is_inc_v'}\n",
      "\n",
      "{'index'}\n"
     ]
    }
   ],
   "source": [
    "# what columns are in dictionary but not in data sources\n",
    "cnamesDif1 = set(cnDict).symmetric_difference(set(cnSQL))\n",
    "cnamesDif2 = set(cnDict).symmetric_difference(set(cnCSV))\n",
    "print(cnamesDif1)\n",
    "print()\n",
    "print(cnamesDif2)\n",
    "# FICO scores are missing - 4 columns\n",
    "# three others are  LoanStatNew    Description (from dictionary)\n",
    "#                   verified_status_joint same as verification_status_joint\n",
    "#                   is_inc_v - same as verification_status\n",
    "\n",
    "# what are column differences in data sources\n",
    "cnamesDif3 = set(cnSQL).symmetric_difference(set(cnCSV))\n",
    "print()\n",
    "print(cnamesDif3)\n",
    "# SQL has an index\n"
   ]
  },
  {
   "cell_type": "code",
   "execution_count": null,
   "metadata": {},
   "outputs": [],
   "source": [
    "# total amount loaned and average loan amount\n",
    "loan_amnt = getCSVColumn('loan_amnt')\n",
    "#print(loan_amnt.count(''))\n",
    "la_float = map(float,loan_amnt)\n",
    "tloans = sum(la_float)\n",
    "aloans = tloans/len(loan_amnt)\n",
    "print(\"Total amount of loans: $\"+str(tloans))\n",
    "print(\"Average loan: $\"+str(aloans))"
   ]
  },
  {
   "cell_type": "code",
   "execution_count": 42,
   "metadata": {
    "collapsed": true
   },
   "outputs": [
    {
     "name": "stdout",
     "output_type": "stream",
     "text": [
      "                                              Status   Count\n",
      "0                                            Current  601779\n",
      "1                                         Fully Paid  207723\n",
      "2                                        Charged Off   45248\n",
      "3                                 Late (31-120 days)   11591\n",
      "4                                             Issued    8460\n",
      "5                                    In Grace Period    6253\n",
      "6                                  Late (16-30 days)    2357\n",
      "7  Does not meet the credit policy. Status:Fully ...    1988\n",
      "8                                            Default    1219\n",
      "9  Does not meet the credit policy. Status:Charge...     761\n"
     ]
    }
   ],
   "source": [
    "# look at loan status column\n",
    "LSCol = getCSVColumn('loan_status')\n",
    "ids = len(LSCol)\n",
    "lstat = list(set(LSCol))\n",
    "# 10 different loan statuses\n",
    "scounts = [LSCol.count(x) for x in lstat]\n",
    "lstatuses = pd.DataFrame(list(zip(lstat,scounts)),columns=['Status','Count']).\\\n",
    "            sort_values(by='Count',ascending=0).reset_index(drop=True)\n",
    "print(lstatuses)"
   ]
  },
  {
   "cell_type": "code",
   "execution_count": 63,
   "metadata": {},
   "outputs": [],
   "source": [
    "# look at sub_grade column\n",
    "SGradeCol = getCSVColumn('sub_grade')\n",
    "ids = len(SGradeCol)\n",
    "sgrade = list(set(SGradeCol))\n",
    "# 35 different Sub Grades\n",
    "#print(len(sgrade))\n",
    "sgradecounts = [SGradeCol.count(x) for x in sgrade]\n",
    "lsgrade = pd.DataFrame(list(zip(sgrade,sgradecounts)),columns=['Sub Grade','Count']).\\\n",
    "            sort_values(by='Sub Grade',ascending=1).reset_index(drop=True)\n",
    "#print(lsgrade)"
   ]
  },
  {
   "cell_type": "code",
   "execution_count": 164,
   "metadata": {},
   "outputs": [
    {
     "data": {
      "image/png": "[encoded data removed]",
      "text/plain": [
       "<matplotlib.figure.Figure at 0x7fe4dd51bdd8>"
      ]
     },
     "metadata": {},
     "output_type": "display_data"
    }
   ],
   "source": [
    "sgplt = lsgrade['Count'].plot(kind='bar',title='Number of Loans by Lending Club Sub-Grade',figsize=(10,7))\n",
    "sgplt.set_xlabel('Sub-Grade')\n",
    "sgplt.set_ylabel('Number of Loans')\n",
    "sgplt.set_xticklabels(lsgrade['Sub Grade'])\n",
    "plt.show()"
   ]
  },
  {
   "cell_type": "code",
   "execution_count": 142,
   "metadata": {
    "collapsed": true
   },
   "outputs": [
    {
     "name": "stdout",
     "output_type": "stream",
     "text": [
      "  Sub Grade  Loan Status\n",
      "0        B2   Fully Paid\n",
      "1        C4  Charged Off\n",
      "2        C5   Fully Paid\n",
      "3        C1   Fully Paid\n",
      "4        B5      Current\n"
     ]
    }
   ],
   "source": [
    "# Look at the relationship between Sub-Grade and Status\n",
    "# How well does the Grade assigned by Lending Club predict Loan Performance?\n",
    "#SGradeCol -- Sub Grade\n",
    "#LSCol -- Loan Status\n",
    "GPerform = pd.DataFrame(list(zip(SGradeCol,LSCol)),columns=['Sub Grade','Loan Status'])\n",
    "print(GPerform.head())"
   ]
  },
  {
   "cell_type": "code",
   "execution_count": 145,
   "metadata": {
    "collapsed": true
   },
   "outputs": [
    {
     "name": "stdout",
     "output_type": "stream",
     "text": [
      "           Does not meet the credit policy. Status:Charged Off  Charged Off  \\\n",
      "Sub Grade                                                                     \n",
      "A1                                                       0.0          181.0   \n",
      "A2                                                       3.0          277.0   \n",
      "A3                                                       0.0          399.0   \n",
      "A4                                                       0.0          779.0   \n",
      "A5                                                       5.0          981.0   \n",
      "B1                                                      15.0         1213.0   \n",
      "B2                                                      11.0         1593.0   \n",
      "B3                                                      12.0         2259.0   \n",
      "B4                                                      23.0         2323.0   \n",
      "B5                                                      24.0         2131.0   \n",
      "C1                                                      22.0         2483.0   \n",
      "C2                                                      38.0         2531.0   \n",
      "C3                                                      34.0         2551.0   \n",
      "C4                                                      28.0         2564.0   \n",
      "C5                                                      26.0         2513.0   \n",
      "D1                                                      35.0         2368.0   \n",
      "D2                                                      43.0         2270.0   \n",
      "D3                                                      37.0         2040.0   \n",
      "D4                                                      43.0         2085.0   \n",
      "D5                                                      39.0         1723.0   \n",
      "E1                                                      36.0         1373.0   \n",
      "E2                                                      37.0         1481.0   \n",
      "E3                                                      35.0         1239.0   \n",
      "E4                                                      34.0         1142.0   \n",
      "E5                                                      16.0         1023.0   \n",
      "F1                                                      21.0          770.0   \n",
      "F2                                                      17.0          630.0   \n",
      "F3                                                      19.0          616.0   \n",
      "F4                                                      20.0          496.0   \n",
      "F5                                                      16.0          422.0   \n",
      "G1                                                      13.0          291.0   \n",
      "G2                                                      10.0          201.0   \n",
      "G3                                                      10.0          140.0   \n",
      "G4                                                      20.0           76.0   \n",
      "G5                                                      19.0           84.0   \n",
      "\n",
      "           Default  Late (31-120 days)  Late (16-30 days)  Fully Paid  Issued  \\\n",
      "Sub Grade                                                                       \n",
      "A1             0.0                31.0               15.0      5689.0   322.0   \n",
      "A2             6.0                64.0               17.0      5925.0   233.0   \n",
      "A3             7.0                72.0               20.0      6774.0   206.0   \n",
      "A4            11.0               115.0               27.0     10279.0   292.0   \n",
      "A5            23.0               210.0               55.0     11012.0   395.0   \n",
      "B1            29.0               250.0               47.0     10883.0   442.0   \n",
      "B2            26.0               351.0               74.0     13035.0   493.0   \n",
      "B3            38.0               387.0               84.0     15809.0   546.0   \n",
      "B4            59.0               512.0              119.0     14610.0   531.0   \n",
      "B5            46.0               504.0               86.0     12209.0   517.0   \n",
      "C1            64.0               605.0              130.0     12476.0   588.0   \n",
      "C2            78.0               653.0              124.0     11810.0   512.0   \n",
      "C3            76.0               673.0              142.0     10227.0   481.0   \n",
      "C4            70.0               713.0              163.0      9492.0   492.0   \n",
      "C5            72.0               695.0              119.0      8673.0   399.0   \n",
      "D1            63.0               692.0              124.0      7678.0   324.0   \n",
      "D2            74.0               595.0              126.0      6781.0   262.0   \n",
      "D3            51.0               512.0               98.0      5951.0   217.0   \n",
      "D4            70.0               577.0              112.0      5299.0   208.0   \n",
      "D5            54.0               514.0              109.0      4311.0   174.0   \n",
      "E1            48.0               462.0              103.0      3332.0   150.0   \n",
      "E2            48.0               441.0               77.0      3055.0   145.0   \n",
      "E3            47.0               351.0               74.0      2558.0   113.0   \n",
      "E4            31.0               313.0               64.0      2184.0    84.0   \n",
      "E5            27.0               285.0               50.0      1799.0   101.0   \n",
      "F1            23.0               239.0               52.0      1460.0    61.0   \n",
      "F2            13.0               190.0               39.0      1114.0    52.0   \n",
      "F3            25.0               139.0               28.0       919.0    43.0   \n",
      "F4             9.0               112.0               22.0       696.0    19.0   \n",
      "F5             9.0                88.0               14.0       537.0    19.0   \n",
      "G1             6.0                78.0               19.0       397.0    15.0   \n",
      "G2             5.0                66.0                7.0       297.0    14.0   \n",
      "G3             6.0                46.0                8.0       190.0     4.0   \n",
      "G4             2.0                24.0                4.0       158.0     3.0   \n",
      "G5             3.0                32.0                5.0       104.0     3.0   \n",
      "\n",
      "           Current  In Grace Period  \\\n",
      "Sub Grade                             \n",
      "A1         16646.0             26.0   \n",
      "A2         15898.0             53.0   \n",
      "A3         15915.0             51.0   \n",
      "A4         22922.0             87.0   \n",
      "A5         31941.0            148.0   \n",
      "B1         31877.0            179.0   \n",
      "B2         32935.0            219.0   \n",
      "B3         36852.0            275.0   \n",
      "B4         37124.0            272.0   \n",
      "B5         32947.0            295.0   \n",
      "C1         36565.0            354.0   \n",
      "C2         36038.0            347.0   \n",
      "C3         35483.0            399.0   \n",
      "C4         34815.0            416.0   \n",
      "C5         28274.0            371.0   \n",
      "D1         24558.0            309.0   \n",
      "D2         19260.0            302.0   \n",
      "D3         17247.0            294.0   \n",
      "D4         16799.0            254.0   \n",
      "D5         14120.0            246.0   \n",
      "E1         12477.0            207.0   \n",
      "E2         11410.0            215.0   \n",
      "E3          9450.0            190.0   \n",
      "E4          7654.0            155.0   \n",
      "E5          6070.0            141.0   \n",
      "F1          4449.0            101.0   \n",
      "F2          3222.0             75.0   \n",
      "F3          2539.0             75.0   \n",
      "F4          1967.0             46.0   \n",
      "F5          1412.0             57.0   \n",
      "G1          1004.0             25.0   \n",
      "G2           756.0             23.0   \n",
      "G3           541.0             16.0   \n",
      "G4           334.0             19.0   \n",
      "G5           278.0             11.0   \n",
      "\n",
      "           Does not meet the credit policy. Status:Fully Paid  \n",
      "Sub Grade                                                      \n",
      "A1                                                       3.0   \n",
      "A2                                                       9.0   \n",
      "A3                                                      13.0   \n",
      "A4                                                      19.0   \n",
      "A5                                                      46.0   \n",
      "B1                                                      37.0   \n",
      "B2                                                      44.0   \n",
      "B3                                                      61.0   \n",
      "B4                                                      53.0   \n",
      "B5                                                      74.0   \n",
      "C1                                                     100.0   \n",
      "C2                                                     105.0   \n",
      "C3                                                      95.0   \n",
      "C4                                                     104.0   \n",
      "C5                                                      77.0   \n",
      "D1                                                      87.0   \n",
      "D2                                                      90.0   \n",
      "D3                                                     107.0   \n",
      "D4                                                     111.0   \n",
      "D5                                                      99.0   \n",
      "E1                                                      80.0   \n",
      "E2                                                      95.0   \n",
      "E3                                                      77.0   \n",
      "E4                                                      63.0   \n",
      "E5                                                      63.0   \n",
      "F1                                                      42.0   \n",
      "F2                                                      40.0   \n",
      "F3                                                      30.0   \n",
      "F4                                                      22.0   \n",
      "F5                                                      20.0   \n",
      "G1                                                      23.0   \n",
      "G2                                                      19.0   \n",
      "G3                                                      20.0   \n",
      "G4                                                      23.0   \n",
      "G5                                                      37.0   \n"
     ]
    }
   ],
   "source": [
    "# Generate dataframe containing counts of statuses for each sub grade\n",
    "# Since there are no values I couldn't find a standard way to do this\n",
    "# This is pretty compact and does only one pass through GPerform\n",
    "# Still takes a long time to run\n",
    "a = np.zeros(shape=(35,11))\n",
    "cols = ['Sub Grade'] + lstat\n",
    "SvsSG = pd.DataFrame(a,columns=cols)\n",
    "sgsorted = sgrade.sort()\n",
    "SvsSG['Sub Grade'] = sgrade\n",
    "SvsSG.set_index('Sub Grade',inplace=True)\n",
    "for indx, row in GPerform.iterrows():\n",
    "    a = row[0]\n",
    "    b = row[1]\n",
    "    SvsSG.loc[a].loc[b] += 1\n",
    "print(SvsSG)\n"
   ]
  },
  {
   "cell_type": "code",
   "execution_count": 146,
   "metadata": {},
   "outputs": [],
   "source": [
    "# takes a long time to generate -- pickle it\n",
    "SvsSG.to_pickle(homeDir+'StatusVsGrade.pkl')"
   ]
  },
  {
   "cell_type": "code",
   "execution_count": 187,
   "metadata": {
    "collapsed": true
   },
   "outputs": [
    {
     "name": "stdout",
     "output_type": "stream",
     "text": [
      "           Does not meet the credit policy. Status:Charged Off  Charged Off  \\\n",
      "Sub Grade                                                                     \n",
      "A1                                                       0.0          181.0   \n",
      "A2                                                       3.0          277.0   \n",
      "A3                                                       0.0          399.0   \n",
      "A4                                                       0.0          779.0   \n",
      "A5                                                       5.0          981.0   \n",
      "\n",
      "           Default  Late (31-120 days)  Late (16-30 days)  Fully Paid  Issued  \\\n",
      "Sub Grade                                                                       \n",
      "A1             0.0                31.0               15.0      5689.0   322.0   \n",
      "A2             6.0                64.0               17.0      5925.0   233.0   \n",
      "A3             7.0                72.0               20.0      6774.0   206.0   \n",
      "A4            11.0               115.0               27.0     10279.0   292.0   \n",
      "A5            23.0               210.0               55.0     11012.0   395.0   \n",
      "\n",
      "           Current  In Grace Period  \\\n",
      "Sub Grade                             \n",
      "A1         16646.0             26.0   \n",
      "A2         15898.0             53.0   \n",
      "A3         15915.0             51.0   \n",
      "A4         22922.0             87.0   \n",
      "A5         31941.0            148.0   \n",
      "\n",
      "           Does not meet the credit policy. Status:Fully Paid  \n",
      "Sub Grade                                                      \n",
      "A1                                                       3.0   \n",
      "A2                                                       9.0   \n",
      "A3                                                      13.0   \n",
      "A4                                                      19.0   \n",
      "A5                                                      46.0   \n"
     ]
    }
   ],
   "source": [
    "# Load it back in\n",
    "SvsSG = pd.read_pickle(homeDir+'StatusVsGrade.pkl')\n",
    "print(SvsSG.head())"
   ]
  },
  {
   "cell_type": "code",
   "execution_count": 188,
   "metadata": {},
   "outputs": [
    {
     "data": {
      "image/png": "[encoded data removed]",
      "text/plain": [
       "<matplotlib.figure.Figure at 0x7fe4f7a21b38>"
      ]
     },
     "metadata": {},
     "output_type": "display_data"
    }
   ],
   "source": [
    "# This is not too interesting -- Percentage of Total Loans in Grade might provide more insight\n",
    "badplt = SvsSG[['Charged Off','Default']].plot(kind='bar',stacked=True,title='Loans Charged Off and In Default By Sub-Grade',figsize=(10,7))\n",
    "badplt.set_ylabel('Number of Loans')\n",
    "plt.show()"
   ]
  },
  {
   "cell_type": "code",
   "execution_count": 219,
   "metadata": {},
   "outputs": [],
   "source": [
    "# Calculate percentage of loans charged off and in default in each sub grade\n",
    "# make a copy\n",
    "sgtots = lsgrade['Count']\n",
    "percent = SvsSG\n",
    "percent['Count'] = list(lsgrade['Count'])\n",
    "percent = percent.div(percent['Count']/100.0,axis='index')    \n",
    "#print(percent.head())"
   ]
  },
  {
   "cell_type": "code",
   "execution_count": 223,
   "metadata": {},
   "outputs": [
    {
     "data": {
      "image/png": "[encoded data removed]",
      "text/plain": [
       "<matplotlib.figure.Figure at 0x7fe57989b780>"
      ]
     },
     "metadata": {},
     "output_type": "display_data"
    },
    {
     "name": "stdout",
     "output_type": "stream",
     "text": [
      "The grading system used by Lending Club appears to be reasonable\n"
     ]
    }
   ],
   "source": [
    "# plot them in stacked bar chart\n",
    "pplt0 = percent[['Charged Off','Default']].plot(kind='bar',stacked=True,title='Percentage of Loans Charged Off and in Default By Sub-Grade',figsize=(10,7))\n",
    "pplt0.set_ylabel('Percentage of Loans')\n",
    "plt.show()\n",
    "print('The grading system used by Lending Club appears to be reasonable')"
   ]
  },
  {
   "cell_type": "code",
   "execution_count": null,
   "metadata": {},
   "outputs": [],
   "source": []
  }
 ],
 "metadata": {
  "kernelspec": {
   "display_name": "Python 3",
   "language": "python",
   "name": "python3"
  },
  "language_info": {
   "codemirror_mode": {
    "name": "ipython",
    "version": 3
   },
   "file_extension": ".py",
   "mimetype": "text/x-python",
   "name": "python",
   "nbconvert_exporter": "python",
   "pygments_lexer": "ipython3",
   "version": "3.5.3"
  }
 },
 "nbformat": 4,
 "nbformat_minor": 2
}
