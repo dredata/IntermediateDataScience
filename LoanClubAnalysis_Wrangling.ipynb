{
 "cells": [
  {
   "cell_type": "code",
   "execution_count": 1,
   "metadata": {},
   "outputs": [],
   "source": [
    "# LendingClub Data content check\n",
    "# Two sources of data and a data dictionary\n",
    "# Data in CSV and SQL files are provided - Kaggle\n",
    "# Looks like FICO score data is missing and some column names are different\n",
    "import sqlite3\n",
    "import csv\n",
    "import pandas as pd\n",
    "import collections\n",
    "import matplotlib.pyplot as plt\n",
    "import numpy as np\n",
    "\n",
    "dataURL = 'https://www.kaggle.com/wendykan/lending-club-loan-data/downloads/lending-club-loan-data.zip'\n",
    "homeDir = \"/fdata/LendingClub/lending-club-loan-data/\"\n",
    "fnSQL = \"database.sqlite\"\n",
    "fnCSV = \"loan.csv\"\n"
   ]
  },
  {
   "cell_type": "code",
   "execution_count": 2,
   "metadata": {},
   "outputs": [],
   "source": [
    "# get column of data from CSV file\n",
    "def getCSVColumn(header):\n",
    "    try:\n",
    "        indx = cnCSV.index(header)\n",
    "        with open(homeDir+fnCSV) as csvfile:\n",
    "            reader = csv.reader(csvfile)\n",
    "            tcol = list(zip(*reader))[indx]\n",
    "            col = list(tcol)\n",
    "            col.pop(0)\n",
    "            return col\n",
    "    except ValueError:\n",
    "        print(\"Column not found:\", header)\n",
    "        col = []\n",
    "        return col\n",
    "\n",
    "# get column of data from SQLite file\n",
    "def getSQLiteColumn(header):\n",
    "    col = []\n",
    "    conn = sqlite3.connect(homeDir+fnSQL)\n",
    "    cursor = conn.execute('SELECT ' + header + ' FROM loan')\n",
    "    for row in cursor.fetchall():\n",
    "        col.append(row[0])\n",
    "    return col\n"
   ]
  },
  {
   "cell_type": "code",
   "execution_count": 3,
   "metadata": {},
   "outputs": [
    {
     "name": "stdout",
     "output_type": "stream",
     "text": [
      "75\n",
      "['index', 'id', 'member_id', 'loan_amnt', 'funded_amnt', 'funded_amnt_inv', 'term', 'int_rate', 'installment', 'grade', 'sub_grade', 'emp_title', 'emp_length', 'home_ownership', 'annual_inc', 'verification_status', 'issue_d', 'loan_status', 'pymnt_plan', 'url', 'desc', 'purpose', 'title', 'zip_code', 'addr_state', 'dti', 'delinq_2yrs', 'earliest_cr_line', 'inq_last_6mths', 'mths_since_last_delinq', 'mths_since_last_record', 'open_acc', 'pub_rec', 'revol_bal', 'revol_util', 'total_acc', 'initial_list_status', 'out_prncp', 'out_prncp_inv', 'total_pymnt', 'total_pymnt_inv', 'total_rec_prncp', 'total_rec_int', 'total_rec_late_fee', 'recoveries', 'collection_recovery_fee', 'last_pymnt_d', 'last_pymnt_amnt', 'next_pymnt_d', 'last_credit_pull_d', 'collections_12_mths_ex_med', 'mths_since_last_major_derog', 'policy_code', 'application_type', 'annual_inc_joint', 'dti_joint', 'verification_status_joint', 'acc_now_delinq', 'tot_coll_amt', 'tot_cur_bal', 'open_acc_6m', 'open_il_6m', 'open_il_12m', 'open_il_24m', 'mths_since_rcnt_il', 'total_bal_il', 'il_util', 'open_rv_12m', 'open_rv_24m', 'max_bal_bc', 'all_util', 'total_rev_hi_lim', 'inq_fi', 'total_cu_tl', 'inq_last_12m']\n"
     ]
    }
   ],
   "source": [
    "# read in column names from sqlite data base\n",
    "conn = sqlite3.connect(homeDir+fnSQL)\n",
    "\n",
    "cursor = conn.execute('select * from loan')\n",
    "\n",
    "cnSQL = [description[0] for description in cursor.description]\n",
    "print(len(cnSQL))\n",
    "print(cnSQL)\n",
    "conn.close()\n",
    "# 75 Data Columns"
   ]
  },
  {
   "cell_type": "code",
   "execution_count": 4,
   "metadata": {},
   "outputs": [
    {
     "name": "stdout",
     "output_type": "stream",
     "text": [
      "79\n",
      "['LoanStatNew', 'addr_state', 'acc_now_delinq', 'all_util', 'annual_inc', 'annual_inc_joint', 'application_type', 'collection_recovery_fee', 'collections_12_mths_ex_med', 'delinq_2yrs', 'desc', 'dti', 'dti_joint', 'earliest_cr_line', 'emp_length', 'emp_title', 'fico_range_high', 'fico_range_low', 'funded_amnt', 'funded_amnt_inv', 'grade', 'home_ownership', 'id', 'il_util', 'initial_list_status', 'inq_fi', 'inq_last_12m', 'inq_last_6mths', 'installment', 'int_rate', 'is_inc_v', 'issue_d', 'last_credit_pull_d', 'last_fico_range_high', 'last_fico_range_low', 'last_pymnt_amnt', 'last_pymnt_d', 'loan_amnt', 'loan_status', 'max_bal_bc', 'member_id', 'mths_since_last_delinq', 'mths_since_last_major_derog', 'mths_since_last_record', 'mths_since_rcnt_il', 'next_pymnt_d', 'open_acc', 'open_acc_6m', 'open_il_12m', 'open_il_24m', 'open_il_6m', 'open_rv_12m', 'open_rv_24m', 'out_prncp', 'out_prncp_inv', 'policy_code', 'pub_rec', 'purpose', 'pymnt_plan', 'recoveries', 'revol_bal', 'revol_util', 'sub_grade', 'term', 'title', 'tot_coll_amt', 'tot_cur_bal', 'total_acc', 'total_bal_il', 'total_cu_tl', 'total_pymnt', 'total_pymnt_inv', 'total_rec_int', 'total_rec_late_fee', 'total_rec_prncp', 'total_rev_hi_lim', 'url', 'verified_status_joint', 'zip_code']\n",
      "\n"
     ]
    }
   ],
   "source": [
    "# read in data names from LCDataDictionary.csv -- from LCDataDictionary.xlsx\n",
    "cnDict = []\n",
    "with open(homeDir+\"LCDataDictionary.csv\") as csvfile:\n",
    "    reader = csv.reader(csvfile, delimiter='\\t', quotechar='|')\n",
    "    for row in reader:\n",
    "        cnDict.append(row[0])\n",
    "cnDict[:] = [item for item in cnDict if item != '']\n",
    "print(len(cnDict))\n",
    "print(cnDict)\n",
    "print()\n",
    "# 79 Data Columns"
   ]
  },
  {
   "cell_type": "code",
   "execution_count": 5,
   "metadata": {},
   "outputs": [
    {
     "name": "stdout",
     "output_type": "stream",
     "text": [
      "74\n",
      "['id', 'member_id', 'loan_amnt', 'funded_amnt', 'funded_amnt_inv', 'term', 'int_rate', 'installment', 'grade', 'sub_grade', 'emp_title', 'emp_length', 'home_ownership', 'annual_inc', 'verification_status', 'issue_d', 'loan_status', 'pymnt_plan', 'url', 'desc', 'purpose', 'title', 'zip_code', 'addr_state', 'dti', 'delinq_2yrs', 'earliest_cr_line', 'inq_last_6mths', 'mths_since_last_delinq', 'mths_since_last_record', 'open_acc', 'pub_rec', 'revol_bal', 'revol_util', 'total_acc', 'initial_list_status', 'out_prncp', 'out_prncp_inv', 'total_pymnt', 'total_pymnt_inv', 'total_rec_prncp', 'total_rec_int', 'total_rec_late_fee', 'recoveries', 'collection_recovery_fee', 'last_pymnt_d', 'last_pymnt_amnt', 'next_pymnt_d', 'last_credit_pull_d', 'collections_12_mths_ex_med', 'mths_since_last_major_derog', 'policy_code', 'application_type', 'annual_inc_joint', 'dti_joint', 'verification_status_joint', 'acc_now_delinq', 'tot_coll_amt', 'tot_cur_bal', 'open_acc_6m', 'open_il_6m', 'open_il_12m', 'open_il_24m', 'mths_since_rcnt_il', 'total_bal_il', 'il_util', 'open_rv_12m', 'open_rv_24m', 'max_bal_bc', 'all_util', 'total_rev_hi_lim', 'inq_fi', 'total_cu_tl', 'inq_last_12m']\n"
     ]
    }
   ],
   "source": [
    "# read in column names from loan.csv\n",
    "with open(homeDir+fnCSV) as csvfile:\n",
    "    reader = csv.reader(csvfile, delimiter='\\t')\n",
    "    cnCSV = next(reader)[0].split(',')\n",
    "print(len(cnCSV))\n",
    "print(cnCSV)\n",
    "# 74 Data Columns"
   ]
  },
  {
   "cell_type": "code",
   "execution_count": 6,
   "metadata": {},
   "outputs": [
    {
     "name": "stdout",
     "output_type": "stream",
     "text": [
      "{'fico_range_high', 'verification_status_joint', 'last_fico_range_high', 'fico_range_low', 'is_inc_v', 'index', 'last_fico_range_low', 'verification_status', 'verified_status_joint', 'LoanStatNew'}\n",
      "\n",
      "{'fico_range_high', 'verification_status_joint', 'last_fico_range_high', 'fico_range_low', 'is_inc_v', 'last_fico_range_low', 'verification_status', 'verified_status_joint', 'LoanStatNew'}\n",
      "\n",
      "{'index'}\n"
     ]
    }
   ],
   "source": [
    "# what columns are in dictionary but not in data sources\n",
    "cnamesDif1 = set(cnDict).symmetric_difference(set(cnSQL))\n",
    "cnamesDif2 = set(cnDict).symmetric_difference(set(cnCSV))\n",
    "print(cnamesDif1)\n",
    "print()\n",
    "print(cnamesDif2)\n",
    "# FICO scores are missing - 4 columns\n",
    "# three others are  LoanStatNew    Description (from dictionary)\n",
    "#                   verified_status_joint same as verification_status_joint\n",
    "#                   is_inc_v - same as verification_status\n",
    "\n",
    "# what are column differences in data sources\n",
    "cnamesDif3 = set(cnSQL).symmetric_difference(set(cnCSV))\n",
    "print()\n",
    "print(cnamesDif3)\n",
    "# SQL has an index\n"
   ]
  },
  {
   "cell_type": "code",
   "execution_count": 7,
   "metadata": {},
   "outputs": [
    {
     "name": "stdout",
     "output_type": "stream",
     "text": [
      "Total amount of loans: $13093511950.0\n",
      "Average loan: $14755.26460508982\n"
     ]
    }
   ],
   "source": [
    "# total amount loaned and average loan amount\n",
    "loan_amnt = getCSVColumn('loan_amnt')\n",
    "#print(loan_amnt.count(''))\n",
    "la_float = map(float,loan_amnt)\n",
    "tloans = sum(la_float)\n",
    "aloans = tloans/len(loan_amnt)\n",
    "print(\"Total amount of loans: $\"+str(tloans))\n",
    "print(\"Average loan: $\"+str(aloans))"
   ]
  },
  {
   "cell_type": "code",
   "execution_count": 8,
   "metadata": {},
   "outputs": [
    {
     "name": "stdout",
     "output_type": "stream",
     "text": [
      "                                              Status   Count\n",
      "0                                            Current  601779\n",
      "1                                         Fully Paid  207723\n",
      "2                                        Charged Off   45248\n",
      "3                                 Late (31-120 days)   11591\n",
      "4                                             Issued    8460\n",
      "5                                    In Grace Period    6253\n",
      "6                                  Late (16-30 days)    2357\n",
      "7  Does not meet the credit policy. Status:Fully ...    1988\n",
      "8                                            Default    1219\n",
      "9  Does not meet the credit policy. Status:Charge...     761\n"
     ]
    }
   ],
   "source": [
    "# look at loan status column\n",
    "LSCol = getCSVColumn('loan_status')\n",
    "ids = len(LSCol)\n",
    "lstat = list(set(LSCol))\n",
    "# 10 different loan statuses\n",
    "scounts = [LSCol.count(x) for x in lstat]\n",
    "lstatuses = pd.DataFrame(list(zip(lstat,scounts)),columns=['Status','Count']).\\\n",
    "            sort_values(by='Count',ascending=0).reset_index(drop=True)\n",
    "print(lstatuses)"
   ]
  },
  {
   "cell_type": "code",
   "execution_count": 219,
   "metadata": {},
   "outputs": [],
   "source": [
    "# Calculate percentage of loans charged off and in default in each sub grade\n",
    "# make a copy\n",
    "sgtots = lsgrade['Count']\n",
    "percent = SvsSG\n",
    "percent['Count'] = list(lsgrade['Count'])\n",
    "percent = percent.div(percent['Count']/100.0,axis='index')    \n",
    "#print(percent.head())"
   ]
  },
  {
   "cell_type": "code",
   "execution_count": 9,
   "metadata": {},
   "outputs": [
    {
     "name": "stdout",
     "output_type": "stream",
     "text": [
      "887379\n"
     ]
    }
   ],
   "source": [
    "print(ids)"
   ]
  },
  {
   "cell_type": "code",
   "execution_count": null,
   "metadata": {},
   "outputs": [],
   "source": []
  }
 ],
 "metadata": {
  "kernelspec": {
   "display_name": "Python 3",
   "language": "python",
   "name": "python3"
  },
  "language_info": {
   "codemirror_mode": {
    "name": "ipython",
    "version": 3
   },
   "file_extension": ".py",
   "mimetype": "text/x-python",
   "name": "python",
   "nbconvert_exporter": "python",
   "pygments_lexer": "ipython3",
   "version": "3.5.3"
  }
 },
 "nbformat": 4,
 "nbformat_minor": 2
}
